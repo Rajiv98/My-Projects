{
 "cells": [
  {
   "cell_type": "code",
   "execution_count": 1,
   "id": "5a323b64",
   "metadata": {},
   "outputs": [],
   "source": [
    "import numpy as np\n",
    "import pandas as pd\n",
    "import seaborn as sns\n",
    "import matplotlib.pyplot as plt\n"
   ]
  },
  {
   "cell_type": "markdown",
   "id": "b627e59c",
   "metadata": {},
   "source": [
    "# Problem Statement\n",
    "So what determines the property prices in Namma Bengaluru? Data : The train and test data will consist of various features that describe that property in Bengaluru. This is an actual data set that is curated over months of primary & secondary research by our team. Each row contains fixed size object of features. There are 9 features and each feature can be accessed by its name. Features Area_type - describes the area Availability - when it can be possessed or when it is ready(categorical and time-series) Location - where it is located in Bengaluru Price - Value of the property in lakhs(INR) Size - in BHK or Bedroom (1-10 or more) Society - to which society it belongs Total_sqft - size of the property in sq.ft Bath - No. of bathrooms Balcony - No. of the balcony Problem Statement With the given 9 features\n",
    "    (categorical and continuous) build a model to predict the price of houses in Bengaluru."
   ]
  },
  {
   "cell_type": "markdown",
   "id": "1e910c77",
   "metadata": {},
   "source": [
    "evaluation matrix= 1 - np.sqrt(np.square(np.log10(y_pred +1) - np.log10(y_true +1)).mean())\n"
   ]
  },
  {
   "cell_type": "code",
   "execution_count": 2,
   "id": "5e578544",
   "metadata": {},
   "outputs": [],
   "source": [
    "train=pd.read_csv(\"C:/Users/NANDINI MK/Downloads/Data/Data/Train.csv\")\n",
    "test=pd.read_csv(\"C:/Users/NANDINI MK/Downloads/Data/Data/Test.csv\")"
   ]
  },
  {
   "cell_type": "code",
   "execution_count": 3,
   "id": "4eda553a",
   "metadata": {
    "scrolled": true
   },
   "outputs": [
    {
     "data": {
      "text/plain": [
       "(13320, 9)"
      ]
     },
     "execution_count": 3,
     "metadata": {},
     "output_type": "execute_result"
    }
   ],
   "source": [
    "train.head()\n",
    "train.shape"
   ]
  },
  {
   "cell_type": "code",
   "execution_count": 4,
   "id": "3f842370",
   "metadata": {},
   "outputs": [
    {
     "data": {
      "text/plain": [
       "(1480, 9)"
      ]
     },
     "execution_count": 4,
     "metadata": {},
     "output_type": "execute_result"
    }
   ],
   "source": [
    "test.shape"
   ]
  },
  {
   "cell_type": "code",
   "execution_count": 5,
   "id": "f0c74a2f",
   "metadata": {},
   "outputs": [
    {
     "data": {
      "text/html": [
       "<div>\n",
       "<style scoped>\n",
       "    .dataframe tbody tr th:only-of-type {\n",
       "        vertical-align: middle;\n",
       "    }\n",
       "\n",
       "    .dataframe tbody tr th {\n",
       "        vertical-align: top;\n",
       "    }\n",
       "\n",
       "    .dataframe thead th {\n",
       "        text-align: right;\n",
       "    }\n",
       "</style>\n",
       "<table border=\"1\" class=\"dataframe\">\n",
       "  <thead>\n",
       "    <tr style=\"text-align: right;\">\n",
       "      <th></th>\n",
       "      <th>bath</th>\n",
       "      <th>balcony</th>\n",
       "      <th>price</th>\n",
       "    </tr>\n",
       "  </thead>\n",
       "  <tbody>\n",
       "    <tr>\n",
       "      <th>count</th>\n",
       "      <td>13247.000000</td>\n",
       "      <td>12711.000000</td>\n",
       "      <td>13320.000000</td>\n",
       "    </tr>\n",
       "    <tr>\n",
       "      <th>mean</th>\n",
       "      <td>2.692610</td>\n",
       "      <td>1.584376</td>\n",
       "      <td>112.565627</td>\n",
       "    </tr>\n",
       "    <tr>\n",
       "      <th>std</th>\n",
       "      <td>1.341458</td>\n",
       "      <td>0.817263</td>\n",
       "      <td>148.971674</td>\n",
       "    </tr>\n",
       "    <tr>\n",
       "      <th>min</th>\n",
       "      <td>1.000000</td>\n",
       "      <td>0.000000</td>\n",
       "      <td>8.000000</td>\n",
       "    </tr>\n",
       "    <tr>\n",
       "      <th>25%</th>\n",
       "      <td>2.000000</td>\n",
       "      <td>1.000000</td>\n",
       "      <td>50.000000</td>\n",
       "    </tr>\n",
       "    <tr>\n",
       "      <th>50%</th>\n",
       "      <td>2.000000</td>\n",
       "      <td>2.000000</td>\n",
       "      <td>72.000000</td>\n",
       "    </tr>\n",
       "    <tr>\n",
       "      <th>75%</th>\n",
       "      <td>3.000000</td>\n",
       "      <td>2.000000</td>\n",
       "      <td>120.000000</td>\n",
       "    </tr>\n",
       "    <tr>\n",
       "      <th>max</th>\n",
       "      <td>40.000000</td>\n",
       "      <td>3.000000</td>\n",
       "      <td>3600.000000</td>\n",
       "    </tr>\n",
       "  </tbody>\n",
       "</table>\n",
       "</div>"
      ],
      "text/plain": [
       "               bath       balcony         price\n",
       "count  13247.000000  12711.000000  13320.000000\n",
       "mean       2.692610      1.584376    112.565627\n",
       "std        1.341458      0.817263    148.971674\n",
       "min        1.000000      0.000000      8.000000\n",
       "25%        2.000000      1.000000     50.000000\n",
       "50%        2.000000      2.000000     72.000000\n",
       "75%        3.000000      2.000000    120.000000\n",
       "max       40.000000      3.000000   3600.000000"
      ]
     },
     "execution_count": 5,
     "metadata": {},
     "output_type": "execute_result"
    }
   ],
   "source": [
    "train.describe()"
   ]
  },
  {
   "cell_type": "code",
   "execution_count": 6,
   "id": "9e2ffc0b",
   "metadata": {},
   "outputs": [
    {
     "data": {
      "text/plain": [
       "(1480, 9)"
      ]
     },
     "execution_count": 6,
     "metadata": {},
     "output_type": "execute_result"
    }
   ],
   "source": [
    "test.shape"
   ]
  },
  {
   "cell_type": "code",
   "execution_count": 7,
   "id": "b7e67bff",
   "metadata": {
    "scrolled": true
   },
   "outputs": [
    {
     "data": {
      "text/plain": [
       "(14800, 9)"
      ]
     },
     "execution_count": 7,
     "metadata": {},
     "output_type": "execute_result"
    }
   ],
   "source": [
    "combined_df=pd.concat([train,test],ignore_index=True)\n",
    "combined_df.shape"
   ]
  },
  {
   "cell_type": "code",
   "execution_count": 8,
   "id": "756561a0",
   "metadata": {},
   "outputs": [
    {
     "data": {
      "text/html": [
       "<div>\n",
       "<style scoped>\n",
       "    .dataframe tbody tr th:only-of-type {\n",
       "        vertical-align: middle;\n",
       "    }\n",
       "\n",
       "    .dataframe tbody tr th {\n",
       "        vertical-align: top;\n",
       "    }\n",
       "\n",
       "    .dataframe thead th {\n",
       "        text-align: right;\n",
       "    }\n",
       "</style>\n",
       "<table border=\"1\" class=\"dataframe\">\n",
       "  <thead>\n",
       "    <tr style=\"text-align: right;\">\n",
       "      <th></th>\n",
       "      <th>area_type</th>\n",
       "      <th>availability</th>\n",
       "      <th>location</th>\n",
       "      <th>size</th>\n",
       "      <th>society</th>\n",
       "      <th>total_sqft</th>\n",
       "      <th>bath</th>\n",
       "      <th>balcony</th>\n",
       "      <th>price</th>\n",
       "    </tr>\n",
       "  </thead>\n",
       "  <tbody>\n",
       "    <tr>\n",
       "      <th>0</th>\n",
       "      <td>Super built-up  Area</td>\n",
       "      <td>19-Dec</td>\n",
       "      <td>Electronic City Phase II</td>\n",
       "      <td>2 BHK</td>\n",
       "      <td>Coomee</td>\n",
       "      <td>1056</td>\n",
       "      <td>2.0</td>\n",
       "      <td>1.0</td>\n",
       "      <td>39.07</td>\n",
       "    </tr>\n",
       "    <tr>\n",
       "      <th>1</th>\n",
       "      <td>Plot  Area</td>\n",
       "      <td>Ready To Move</td>\n",
       "      <td>Chikka Tirupathi</td>\n",
       "      <td>4 Bedroom</td>\n",
       "      <td>Theanmp</td>\n",
       "      <td>2600</td>\n",
       "      <td>5.0</td>\n",
       "      <td>3.0</td>\n",
       "      <td>120.00</td>\n",
       "    </tr>\n",
       "    <tr>\n",
       "      <th>2</th>\n",
       "      <td>Built-up  Area</td>\n",
       "      <td>Ready To Move</td>\n",
       "      <td>Uttarahalli</td>\n",
       "      <td>3 BHK</td>\n",
       "      <td>NaN</td>\n",
       "      <td>1440</td>\n",
       "      <td>2.0</td>\n",
       "      <td>3.0</td>\n",
       "      <td>62.00</td>\n",
       "    </tr>\n",
       "    <tr>\n",
       "      <th>3</th>\n",
       "      <td>Super built-up  Area</td>\n",
       "      <td>Ready To Move</td>\n",
       "      <td>Lingadheeranahalli</td>\n",
       "      <td>3 BHK</td>\n",
       "      <td>Soiewre</td>\n",
       "      <td>1521</td>\n",
       "      <td>3.0</td>\n",
       "      <td>1.0</td>\n",
       "      <td>95.00</td>\n",
       "    </tr>\n",
       "    <tr>\n",
       "      <th>4</th>\n",
       "      <td>Super built-up  Area</td>\n",
       "      <td>Ready To Move</td>\n",
       "      <td>Kothanur</td>\n",
       "      <td>2 BHK</td>\n",
       "      <td>NaN</td>\n",
       "      <td>1200</td>\n",
       "      <td>2.0</td>\n",
       "      <td>1.0</td>\n",
       "      <td>51.00</td>\n",
       "    </tr>\n",
       "  </tbody>\n",
       "</table>\n",
       "</div>"
      ],
      "text/plain": [
       "              area_type   availability                  location       size  \\\n",
       "0  Super built-up  Area         19-Dec  Electronic City Phase II      2 BHK   \n",
       "1            Plot  Area  Ready To Move          Chikka Tirupathi  4 Bedroom   \n",
       "2        Built-up  Area  Ready To Move               Uttarahalli      3 BHK   \n",
       "3  Super built-up  Area  Ready To Move        Lingadheeranahalli      3 BHK   \n",
       "4  Super built-up  Area  Ready To Move                  Kothanur      2 BHK   \n",
       "\n",
       "   society total_sqft  bath  balcony   price  \n",
       "0  Coomee        1056   2.0      1.0   39.07  \n",
       "1  Theanmp       2600   5.0      3.0  120.00  \n",
       "2      NaN       1440   2.0      3.0   62.00  \n",
       "3  Soiewre       1521   3.0      1.0   95.00  \n",
       "4      NaN       1200   2.0      1.0   51.00  "
      ]
     },
     "execution_count": 8,
     "metadata": {},
     "output_type": "execute_result"
    }
   ],
   "source": [
    "combined_df.head()"
   ]
  },
  {
   "cell_type": "code",
   "execution_count": 9,
   "id": "2c4d4b80",
   "metadata": {},
   "outputs": [
    {
     "name": "stdout",
     "output_type": "stream",
     "text": [
      "<class 'pandas.core.frame.DataFrame'>\n",
      "RangeIndex: 14800 entries, 0 to 14799\n",
      "Data columns (total 9 columns):\n",
      " #   Column        Non-Null Count  Dtype  \n",
      "---  ------        --------------  -----  \n",
      " 0   area_type     14800 non-null  object \n",
      " 1   availability  14800 non-null  object \n",
      " 2   location      14799 non-null  object \n",
      " 3   size          14782 non-null  object \n",
      " 4   society       8672 non-null   object \n",
      " 5   total_sqft    14800 non-null  object \n",
      " 6   bath          14720 non-null  float64\n",
      " 7   balcony       14122 non-null  float64\n",
      " 8   price         13320 non-null  float64\n",
      "dtypes: float64(3), object(6)\n",
      "memory usage: 1.0+ MB\n"
     ]
    }
   ],
   "source": [
    "combined_df.info()"
   ]
  },
  {
   "cell_type": "code",
   "execution_count": 10,
   "id": "99f834de",
   "metadata": {
    "scrolled": true
   },
   "outputs": [
    {
     "data": {
      "text/plain": [
       "area_type          0\n",
       "availability       0\n",
       "location           1\n",
       "size              18\n",
       "society         6128\n",
       "total_sqft         0\n",
       "bath              80\n",
       "balcony          678\n",
       "price           1480\n",
       "dtype: int64"
      ]
     },
     "execution_count": 10,
     "metadata": {},
     "output_type": "execute_result"
    }
   ],
   "source": [
    "combined_df.isnull().sum()"
   ]
  },
  {
   "cell_type": "code",
   "execution_count": 11,
   "id": "cc50da78",
   "metadata": {},
   "outputs": [
    {
     "data": {
      "text/plain": [
       "<seaborn.axisgrid.FacetGrid at 0x21d61401ca0>"
      ]
     },
     "execution_count": 11,
     "metadata": {},
     "output_type": "execute_result"
    },
    {
     "data": {
      "image/png": "[encoded data removed]",
      "text/plain": [
       "<Figure size 360x360 with 1 Axes>"
      ]
     },
     "metadata": {
      "needs_background": "light"
     },
     "output_type": "display_data"
    }
   ],
   "source": [
    "sns.displot(combined_df['price'],color='coral')"
   ]
  },
  {
   "cell_type": "code",
   "execution_count": 12,
   "id": "25b90c8d",
   "metadata": {
    "scrolled": true
   },
   "outputs": [],
   "source": [
    "#Plot Area,Super Built-up Area,Built-up Area,Carpet Area--- priority of plot"
   ]
  },
  {
   "cell_type": "code",
   "execution_count": 13,
   "id": "c0788aa0",
   "metadata": {},
   "outputs": [],
   "source": [
    "import re"
   ]
  },
  {
   "cell_type": "code",
   "execution_count": 14,
   "id": "5c5611d5",
   "metadata": {
    "scrolled": true
   },
   "outputs": [
    {
     "data": {
      "text/html": [
       "<div>\n",
       "<style scoped>\n",
       "    .dataframe tbody tr th:only-of-type {\n",
       "        vertical-align: middle;\n",
       "    }\n",
       "\n",
       "    .dataframe tbody tr th {\n",
       "        vertical-align: top;\n",
       "    }\n",
       "\n",
       "    .dataframe thead th {\n",
       "        text-align: right;\n",
       "    }\n",
       "</style>\n",
       "<table border=\"1\" class=\"dataframe\">\n",
       "  <thead>\n",
       "    <tr style=\"text-align: right;\">\n",
       "      <th></th>\n",
       "      <th>area_type</th>\n",
       "      <th>availability</th>\n",
       "      <th>location</th>\n",
       "      <th>size</th>\n",
       "      <th>society</th>\n",
       "      <th>total_sqft</th>\n",
       "      <th>bath</th>\n",
       "      <th>balcony</th>\n",
       "      <th>price</th>\n",
       "    </tr>\n",
       "  </thead>\n",
       "  <tbody>\n",
       "    <tr>\n",
       "      <th>0</th>\n",
       "      <td>Super built-up  Area</td>\n",
       "      <td>19-Dec</td>\n",
       "      <td>Electronic City Phase II</td>\n",
       "      <td>2 BHK</td>\n",
       "      <td>Coomee</td>\n",
       "      <td>1056</td>\n",
       "      <td>2.0</td>\n",
       "      <td>1.0</td>\n",
       "      <td>39.07</td>\n",
       "    </tr>\n",
       "    <tr>\n",
       "      <th>1</th>\n",
       "      <td>Plot  Area</td>\n",
       "      <td>Ready To Move</td>\n",
       "      <td>Chikka Tirupathi</td>\n",
       "      <td>4 Bedroom</td>\n",
       "      <td>Theanmp</td>\n",
       "      <td>2600</td>\n",
       "      <td>5.0</td>\n",
       "      <td>3.0</td>\n",
       "      <td>120.00</td>\n",
       "    </tr>\n",
       "    <tr>\n",
       "      <th>2</th>\n",
       "      <td>Built-up  Area</td>\n",
       "      <td>Ready To Move</td>\n",
       "      <td>Uttarahalli</td>\n",
       "      <td>3 BHK</td>\n",
       "      <td>NaN</td>\n",
       "      <td>1440</td>\n",
       "      <td>2.0</td>\n",
       "      <td>3.0</td>\n",
       "      <td>62.00</td>\n",
       "    </tr>\n",
       "    <tr>\n",
       "      <th>3</th>\n",
       "      <td>Super built-up  Area</td>\n",
       "      <td>Ready To Move</td>\n",
       "      <td>Lingadheeranahalli</td>\n",
       "      <td>3 BHK</td>\n",
       "      <td>Soiewre</td>\n",
       "      <td>1521</td>\n",
       "      <td>3.0</td>\n",
       "      <td>1.0</td>\n",
       "      <td>95.00</td>\n",
       "    </tr>\n",
       "    <tr>\n",
       "      <th>4</th>\n",
       "      <td>Super built-up  Area</td>\n",
       "      <td>Ready To Move</td>\n",
       "      <td>Kothanur</td>\n",
       "      <td>2 BHK</td>\n",
       "      <td>NaN</td>\n",
       "      <td>1200</td>\n",
       "      <td>2.0</td>\n",
       "      <td>1.0</td>\n",
       "      <td>51.00</td>\n",
       "    </tr>\n",
       "  </tbody>\n",
       "</table>\n",
       "</div>"
      ],
      "text/plain": [
       "              area_type   availability                  location       size  \\\n",
       "0  Super built-up  Area         19-Dec  Electronic City Phase II      2 BHK   \n",
       "1            Plot  Area  Ready To Move          Chikka Tirupathi  4 Bedroom   \n",
       "2        Built-up  Area  Ready To Move               Uttarahalli      3 BHK   \n",
       "3  Super built-up  Area  Ready To Move        Lingadheeranahalli      3 BHK   \n",
       "4  Super built-up  Area  Ready To Move                  Kothanur      2 BHK   \n",
       "\n",
       "   society total_sqft  bath  balcony   price  \n",
       "0  Coomee        1056   2.0      1.0   39.07  \n",
       "1  Theanmp       2600   5.0      3.0  120.00  \n",
       "2      NaN       1440   2.0      3.0   62.00  \n",
       "3  Soiewre       1521   3.0      1.0   95.00  \n",
       "4      NaN       1200   2.0      1.0   51.00  "
      ]
     },
     "execution_count": 14,
     "metadata": {},
     "output_type": "execute_result"
    }
   ],
   "source": [
    "combined_df.head()"
   ]
  },
  {
   "cell_type": "code",
   "execution_count": 15,
   "id": "d1fccbeb",
   "metadata": {},
   "outputs": [],
   "source": [
    "def number(x):\n",
    "    if isinstance(x, str):  # Check if x is a string\n",
    "        for i in x:\n",
    "            if i.isdigit():\n",
    "                return i\n",
    "    elif isinstance(x, float):  # Check if x is a float\n",
    "        return None  # Or any other default value you prefer\n",
    "    return None  # In case x is neither a string nor a float\n",
    "combined_df['size']=combined_df['size'].apply(number)"
   ]
  },
  {
   "cell_type": "code",
   "execution_count": 16,
   "id": "c3652dce",
   "metadata": {},
   "outputs": [],
   "source": [
    "combined_df['size']=combined_df['size'].fillna(round(combined_df.groupby(['size'])['bath'].transform('mean')))"
   ]
  },
  {
   "cell_type": "code",
   "execution_count": 17,
   "id": "6649600a",
   "metadata": {},
   "outputs": [],
   "source": [
    "combined_df['size']=combined_df['size'].replace(np.nan,combined_df['size'].mode()[0])"
   ]
  },
  {
   "cell_type": "code",
   "execution_count": 18,
   "id": "041de089",
   "metadata": {},
   "outputs": [],
   "source": [
    "combined_df['bath']=combined_df['bath'].fillna(round(combined_df.groupby(['bath'])['size'].transform('mean')))"
   ]
  },
  {
   "cell_type": "code",
   "execution_count": 19,
   "id": "a4eedae9",
   "metadata": {},
   "outputs": [],
   "source": [
    "combined_df['balcony']=combined_df['balcony'].fillna(0)"
   ]
  },
  {
   "cell_type": "code",
   "execution_count": 20,
   "id": "9860230e",
   "metadata": {},
   "outputs": [],
   "source": [
    "import re\n",
    "\n",
    "def process_data(value):\n",
    "    if not value or value.strip() == '':\n",
    "        return None \n",
    "\n",
    "    value = value.strip()\n",
    "    \n",
    "    try:\n",
    "        if '-' in value:  \n",
    "            start, end = map(float, value.split(' - '))\n",
    "            mean = (start + end) / 2\n",
    "            return mean\n",
    "        elif 'Sq. Meter' in value:  \n",
    "            num = float(re.search(r\"[\\d.]+\", value).group())\n",
    "            sq_feet = num * 10.764\n",
    "            return sq_feet\n",
    "        elif 'Sq. Yards' in value:  \n",
    "            num = float(re.search(r\"[\\d.]+\", value).group())\n",
    "            sq_feet = num * 9\n",
    "            return sq_feet\n",
    "        else:  \n",
    "            return float(value)\n",
    "    except ValueError:\n",
    "        return None \n",
    "\n",
    "combined_df['total_sqft']=combined_df['total_sqft'].apply(process_data)"
   ]
  },
  {
   "cell_type": "markdown",
   "id": "cf127072",
   "metadata": {},
   "source": [
    "# Missing value Treatment "
   ]
  },
  {
   "cell_type": "code",
   "execution_count": 21,
   "id": "109d59d4",
   "metadata": {},
   "outputs": [
    {
     "data": {
      "text/plain": [
       "area_type          0\n",
       "availability       0\n",
       "location           1\n",
       "size               0\n",
       "society         6128\n",
       "total_sqft        15\n",
       "bath              80\n",
       "balcony            0\n",
       "price           1480\n",
       "dtype: int64"
      ]
     },
     "execution_count": 21,
     "metadata": {},
     "output_type": "execute_result"
    }
   ],
   "source": [
    "combined_df.isnull().sum()"
   ]
  },
  {
   "cell_type": "code",
   "execution_count": 22,
   "id": "b006e07a",
   "metadata": {},
   "outputs": [],
   "source": [
    "combined_df['total_sqft']=combined_df['total_sqft'].fillna(combined_df.groupby('size')['total_sqft'].transform('mean'))\n"
   ]
  },
  {
   "cell_type": "code",
   "execution_count": 23,
   "id": "088543d4",
   "metadata": {},
   "outputs": [],
   "source": [
    "combined_df['bath']=combined_df['bath'].fillna(combined_df.groupby('bath')['size'].transform('mean'))\n",
    "combined_df['bath'] = np.where(combined_df['bath'].isna(), combined_df['size'], combined_df['bath'])\n",
    "# np.where replaces null values based on boolean \n",
    "# initially replace null with transform mean, then replaced the leftovers with where condition "
   ]
  },
  {
   "cell_type": "code",
   "execution_count": 24,
   "id": "fe5d10f5",
   "metadata": {},
   "outputs": [],
   "source": [
    "combined_df=combined_df.drop('availability',axis=1)"
   ]
  },
  {
   "cell_type": "code",
   "execution_count": 25,
   "id": "e6abf7b2",
   "metadata": {},
   "outputs": [],
   "source": [
    "combined_df['balcony']=combined_df['balcony'].fillna(0)"
   ]
  },
  {
   "cell_type": "code",
   "execution_count": 26,
   "id": "aa702d6b",
   "metadata": {
    "scrolled": true
   },
   "outputs": [],
   "source": [
    "combined_df[['bath','balcony','size']]=combined_df[['bath','balcony','size']].astype('int')"
   ]
  },
  {
   "cell_type": "code",
   "execution_count": 27,
   "id": "3ee23f5d",
   "metadata": {},
   "outputs": [
    {
     "data": {
      "text/plain": [
       "area_type        0\n",
       "location         1\n",
       "size             0\n",
       "society       6128\n",
       "total_sqft       0\n",
       "bath             0\n",
       "balcony          0\n",
       "price         1480\n",
       "dtype: int64"
      ]
     },
     "execution_count": 27,
     "metadata": {},
     "output_type": "execute_result"
    }
   ],
   "source": [
    "combined_df.isnull().sum()"
   ]
  },
  {
   "cell_type": "markdown",
   "id": "6b364e5b",
   "metadata": {},
   "source": [
    "# Feature Engineering"
   ]
  },
  {
   "cell_type": "code",
   "execution_count": 28,
   "id": "a90d05a6",
   "metadata": {},
   "outputs": [
    {
     "data": {
      "text/plain": [
       "Whitefield                         591\n",
       "Sarjapur  Road                     437\n",
       "Electronic City                    337\n",
       "Kanakpura Road                     298\n",
       "Thanisandra                        277\n",
       "                                  ... \n",
       "K R C kothanur                       1\n",
       "1Channasandra                        1\n",
       "Vijayabank bank layout               1\n",
       "Saptagiri Layout                     1\n",
       "Vishweswaraiah Layout 4th Block      1\n",
       "Name: location, Length: 1358, dtype: int64"
      ]
     },
     "execution_count": 28,
     "metadata": {},
     "output_type": "execute_result"
    }
   ],
   "source": [
    "combined_df['location'].value_counts()"
   ]
  },
  {
   "cell_type": "code",
   "execution_count": 29,
   "id": "3385969e",
   "metadata": {},
   "outputs": [],
   "source": [
    "average_price_per_location = combined_df.groupby('location')['price'].mean().reset_index()\n",
    "average_price_per_location.columns = ['location', 'avg_price']\n",
    "# calculating areawise average and combine it with original data\n",
    "combined_df = combined_df.merge(average_price_per_location, on='location', how='left')\n",
    "\n",
    "#calculate mean and standard deviation of the average prices\n",
    "mean_price = average_price_per_location['avg_price'].mean()\n",
    "std_dev_price = average_price_per_location['avg_price'].std()\n",
    "\n",
    "# Define a function to classify areas based on price\n",
    "def classify_area(price):\n",
    "    if price < mean_price - std_dev_price:\n",
    "        return 'cheap_area'\n",
    "    elif price > mean_price + std_dev_price:\n",
    "        return 'costly_area'\n",
    "    else:\n",
    "        return 'normal_area'\n",
    "\n",
    "# Apply classification\n",
    "combined_df['area_category'] = combined_df['avg_price'].apply(classify_area)"
   ]
  },
  {
   "cell_type": "code",
   "execution_count": 30,
   "id": "e9891085",
   "metadata": {},
   "outputs": [],
   "source": [
    "combined_df['SocietyPresence'] = combined_df['society'].apply(lambda x: 'Yes' if pd.notna(x) and x.strip() != '' else 'No')"
   ]
  },
  {
   "cell_type": "markdown",
   "id": "aa529d0f",
   "metadata": {},
   "source": [
    "# Outlier Treatment"
   ]
  },
  {
   "cell_type": "code",
   "execution_count": 31,
   "id": "1a79c7b9",
   "metadata": {},
   "outputs": [
    {
     "name": "stderr",
     "output_type": "stream",
     "text": [
      "C:\\Users\\NANDINI MK\\anaconda3\\lib\\site-packages\\seaborn\\_decorators.py:36: FutureWarning: Pass the following variable as a keyword arg: x. From version 0.12, the only valid positional argument will be `data`, and passing other arguments without an explicit keyword will result in an error or misinterpretation.\n",
      "  warnings.warn(\n"
     ]
    },
    {
     "data": {
      "image/png": "[encoded data removed]",
      "text/plain": [
       "<Figure size 432x288 with 1 Axes>"
      ]
     },
     "metadata": {
      "needs_background": "light"
     },
     "output_type": "display_data"
    },
    {
     "name": "stderr",
     "output_type": "stream",
     "text": [
      "C:\\Users\\NANDINI MK\\anaconda3\\lib\\site-packages\\seaborn\\_decorators.py:36: FutureWarning: Pass the following variable as a keyword arg: x. From version 0.12, the only valid positional argument will be `data`, and passing other arguments without an explicit keyword will result in an error or misinterpretation.\n",
      "  warnings.warn(\n"
     ]
    },
    {
     "data": {
      "image/png": "[encoded data removed]",
      "text/plain": [
       "<Figure size 432x288 with 1 Axes>"
      ]
     },
     "metadata": {
      "needs_background": "light"
     },
     "output_type": "display_data"
    },
    {
     "name": "stderr",
     "output_type": "stream",
     "text": [
      "C:\\Users\\NANDINI MK\\anaconda3\\lib\\site-packages\\seaborn\\_decorators.py:36: FutureWarning: Pass the following variable as a keyword arg: x. From version 0.12, the only valid positional argument will be `data`, and passing other arguments without an explicit keyword will result in an error or misinterpretation.\n",
      "  warnings.warn(\n"
     ]
    },
    {
     "data": {
      "image/png": "[encoded data removed]",
      "text/plain": [
       "<Figure size 432x288 with 1 Axes>"
      ]
     },
     "metadata": {
      "needs_background": "light"
     },
     "output_type": "display_data"
    },
    {
     "name": "stderr",
     "output_type": "stream",
     "text": [
      "C:\\Users\\NANDINI MK\\anaconda3\\lib\\site-packages\\seaborn\\_decorators.py:36: FutureWarning: Pass the following variable as a keyword arg: x. From version 0.12, the only valid positional argument will be `data`, and passing other arguments without an explicit keyword will result in an error or misinterpretation.\n",
      "  warnings.warn(\n"
     ]
    },
    {
     "data": {
      "image/png": "[encoded data removed]",
      "text/plain": [
       "<Figure size 432x288 with 1 Axes>"
      ]
     },
     "metadata": {
      "needs_background": "light"
     },
     "output_type": "display_data"
    },
    {
     "name": "stderr",
     "output_type": "stream",
     "text": [
      "C:\\Users\\NANDINI MK\\anaconda3\\lib\\site-packages\\seaborn\\_decorators.py:36: FutureWarning: Pass the following variable as a keyword arg: x. From version 0.12, the only valid positional argument will be `data`, and passing other arguments without an explicit keyword will result in an error or misinterpretation.\n",
      "  warnings.warn(\n"
     ]
    },
    {
     "data": {
      "image/png": "[encoded data removed]",
      "text/plain": [
       "<Figure size 432x288 with 1 Axes>"
      ]
     },
     "metadata": {
      "needs_background": "light"
     },
     "output_type": "display_data"
    },
    {
     "name": "stderr",
     "output_type": "stream",
     "text": [
      "C:\\Users\\NANDINI MK\\anaconda3\\lib\\site-packages\\seaborn\\_decorators.py:36: FutureWarning: Pass the following variable as a keyword arg: x. From version 0.12, the only valid positional argument will be `data`, and passing other arguments without an explicit keyword will result in an error or misinterpretation.\n",
      "  warnings.warn(\n"
     ]
    },
    {
     "data": {
      "image/png": "[encoded data removed]",
      "text/plain": [
       "<Figure size 432x288 with 1 Axes>"
      ]
     },
     "metadata": {
      "needs_background": "light"
     },
     "output_type": "display_data"
    }
   ],
   "source": [
    "for i in list(combined_df.select_dtypes(np.number).columns):\n",
    "    sns.boxplot(combined_df[i])\n",
    "    plt.show()"
   ]
  },
  {
   "cell_type": "markdown",
   "id": "a0b5005d",
   "metadata": {},
   "source": [
    "size,total_sqft,bath,price has outliers "
   ]
  },
  {
   "cell_type": "code",
   "execution_count": 32,
   "id": "a3c9a606",
   "metadata": {},
   "outputs": [
    {
     "name": "stdout",
     "output_type": "stream",
     "text": [
      "size: 6.00%\n",
      "total_sqft: 9.00%\n",
      "bath: 8.00%\n",
      "balcony: 0.00%\n",
      "price: 9.00%\n",
      "avg_price: 7.00%\n"
     ]
    }
   ],
   "source": [
    "# Percentage of Outlier Present in each Column\n",
    "\n",
    "for i in list(combined_df.select_dtypes(np.number).columns):\n",
    "    q1 = combined_df[i].quantile(0.25)\n",
    "    q3 = combined_df[i].quantile(0.75)\n",
    "    iqr= q3-q1\n",
    "    ul = q3+(1.5*iqr)\n",
    "    ll = q1-(1.5*iqr)\n",
    "    outliers = combined_df[(combined_df[i]>ul) | (combined_df[i]<ll)]\n",
    "    outliers_per = round(len(outliers) / combined_df.shape[0],2)\n",
    "    print(f'{i}: {outliers_per:.2%}')"
   ]
  },
  {
   "cell_type": "code",
   "execution_count": 33,
   "id": "069a604f",
   "metadata": {},
   "outputs": [],
   "source": [
    "#This process limits the influence of outliers by capping them at the calculated limits.\n",
    "for i in list(combined_df.select_dtypes(np.number).columns):\n",
    "    q1=combined_df[i].quantile(0.25)\n",
    "    q3=combined_df[i].quantile(0.75)\n",
    "    iqr=q3-q1\n",
    "    ul=q3+(1.5*iqr)\n",
    "    ll=q1-(1.5*iqr)\n",
    "    combined_df[i]=combined_df[i].apply(lambda x:ll if x<ll else ul if x>ul else x )"
   ]
  },
  {
   "cell_type": "markdown",
   "id": "96288b2c",
   "metadata": {},
   "source": [
    "# Qualitative Analysis"
   ]
  },
  {
   "cell_type": "code",
   "execution_count": 34,
   "id": "903cfc92",
   "metadata": {},
   "outputs": [],
   "source": [
    "#for i in list(combined_df.select_dtypes('object').columns):\n",
    " #   sns.countplot(x=combined_df[i])\n",
    " #   plt.show()"
   ]
  },
  {
   "cell_type": "code",
   "execution_count": 35,
   "id": "d32dd321",
   "metadata": {},
   "outputs": [
    {
     "data": {
      "text/plain": [
       "<AxesSubplot:>"
      ]
     },
     "execution_count": 35,
     "metadata": {},
     "output_type": "execute_result"
    },
    {
     "data": {
      "image/png": "[encoded data removed]",
      "text/plain": [
       "<Figure size 432x288 with 2 Axes>"
      ]
     },
     "metadata": {
      "needs_background": "light"
     },
     "output_type": "display_data"
    }
   ],
   "source": [
    "sns.heatmap(combined_df.corr(),annot=True)"
   ]
  },
  {
   "cell_type": "markdown",
   "id": "1428260d",
   "metadata": {},
   "source": [
    "# Encoding"
   ]
  },
  {
   "cell_type": "code",
   "execution_count": 36,
   "id": "7e2bb56a",
   "metadata": {},
   "outputs": [
    {
     "name": "stdout",
     "output_type": "stream",
     "text": [
      "<class 'pandas.core.frame.DataFrame'>\n",
      "Int64Index: 14800 entries, 0 to 14799\n",
      "Data columns (total 11 columns):\n",
      " #   Column           Non-Null Count  Dtype  \n",
      "---  ------           --------------  -----  \n",
      " 0   area_type        14800 non-null  object \n",
      " 1   location         14799 non-null  object \n",
      " 2   size             14800 non-null  float64\n",
      " 3   society          8672 non-null   object \n",
      " 4   total_sqft       14800 non-null  float64\n",
      " 5   bath             14800 non-null  float64\n",
      " 6   balcony          14800 non-null  int64  \n",
      " 7   price            13320 non-null  float64\n",
      " 8   avg_price        14746 non-null  float64\n",
      " 9   area_category    14800 non-null  object \n",
      " 10  SocietyPresence  14800 non-null  object \n",
      "dtypes: float64(5), int64(1), object(5)\n",
      "memory usage: 1.4+ MB\n"
     ]
    }
   ],
   "source": [
    "combined_df.info()"
   ]
  },
  {
   "cell_type": "code",
   "execution_count": 37,
   "id": "d7b568d9",
   "metadata": {},
   "outputs": [],
   "source": [
    "from sklearn.preprocessing import OrdinalEncoder\n",
    "priority_list = [['Carpet  Area','Plot  Area', 'Built-up  Area', 'Super built-up  Area']]\n",
    "oe=OrdinalEncoder()\n",
    "combined_df['area_type']=oe.fit_transform(combined_df[['area_type']])"
   ]
  },
  {
   "cell_type": "code",
   "execution_count": 38,
   "id": "880f32be",
   "metadata": {},
   "outputs": [],
   "source": [
    "combined_df['SocietyPresence']=pd.get_dummies(combined_df['SocietyPresence'],drop_first=True,dtype='int64')"
   ]
  },
  {
   "cell_type": "code",
   "execution_count": 39,
   "id": "e7ee6757",
   "metadata": {},
   "outputs": [
    {
     "data": {
      "text/plain": [
       "area_category\n",
       "costly_area    192.123731\n",
       "normal_area     88.650667\n",
       "Name: price, dtype: float64"
      ]
     },
     "execution_count": 39,
     "metadata": {},
     "output_type": "execute_result"
    }
   ],
   "source": [
    "combined_df.groupby(['area_category'])['price'].mean()"
   ]
  },
  {
   "cell_type": "code",
   "execution_count": 40,
   "id": "d0822565",
   "metadata": {},
   "outputs": [],
   "source": [
    "priority_list = [['Carpet  Area','Plot  Area', 'Built-up  Area', 'Super built-up  Area']]\n",
    "oe=OrdinalEncoder()\n",
    "combined_df['area_type']=oe.fit_transform(combined_df[['area_type']])"
   ]
  },
  {
   "cell_type": "code",
   "execution_count": 41,
   "id": "c544ebaa",
   "metadata": {},
   "outputs": [],
   "source": [
    "priority_list = [['normal_area','costly_area']]\n",
    "oe=OrdinalEncoder()\n",
    "combined_df['area_category']=oe.fit_transform(combined_df[['area_category']])"
   ]
  },
  {
   "cell_type": "code",
   "execution_count": 42,
   "id": "3d3c8260",
   "metadata": {},
   "outputs": [
    {
     "data": {
      "text/plain": [
       "Index(['area_type', 'location', 'size', 'society', 'total_sqft', 'bath',\n",
       "       'balcony', 'price', 'avg_price', 'area_category', 'SocietyPresence'],\n",
       "      dtype='object')"
      ]
     },
     "execution_count": 42,
     "metadata": {},
     "output_type": "execute_result"
    }
   ],
   "source": [
    "combined_df.columns"
   ]
  },
  {
   "cell_type": "code",
   "execution_count": 43,
   "id": "ee01fd5e",
   "metadata": {},
   "outputs": [],
   "source": [
    "combined_df.drop(['avg_price','location','society'],axis=1,inplace=True)"
   ]
  },
  {
   "cell_type": "markdown",
   "id": "d9637722",
   "metadata": {},
   "source": [
    "# Base Model "
   ]
  },
  {
   "cell_type": "code",
   "execution_count": 44,
   "id": "edea60ed",
   "metadata": {},
   "outputs": [
    {
     "data": {
      "text/plain": [
       "((13320, 9), (1480, 9), (13320, 8), (1480, 8))"
      ]
     },
     "execution_count": 44,
     "metadata": {},
     "output_type": "execute_result"
    }
   ],
   "source": [
    "newtrain=combined_df.loc[0:train.shape[0]-1,:]\n",
    "newtest=combined_df.loc[train.shape[0]:,:]\n",
    "train.shape,test.shape,newtrain.shape,newtest.shape"
   ]
  },
  {
   "cell_type": "code",
   "execution_count": 45,
   "id": "7685b9e7",
   "metadata": {},
   "outputs": [
    {
     "data": {
      "text/html": [
       "<div>\n",
       "<style scoped>\n",
       "    .dataframe tbody tr th:only-of-type {\n",
       "        vertical-align: middle;\n",
       "    }\n",
       "\n",
       "    .dataframe tbody tr th {\n",
       "        vertical-align: top;\n",
       "    }\n",
       "\n",
       "    .dataframe thead th {\n",
       "        text-align: right;\n",
       "    }\n",
       "</style>\n",
       "<table border=\"1\" class=\"dataframe\">\n",
       "  <thead>\n",
       "    <tr style=\"text-align: right;\">\n",
       "      <th></th>\n",
       "      <th>area_type</th>\n",
       "      <th>size</th>\n",
       "      <th>total_sqft</th>\n",
       "      <th>bath</th>\n",
       "      <th>balcony</th>\n",
       "      <th>price</th>\n",
       "      <th>area_category</th>\n",
       "      <th>SocietyPresence</th>\n",
       "    </tr>\n",
       "  </thead>\n",
       "  <tbody>\n",
       "    <tr>\n",
       "      <th>13320</th>\n",
       "      <td>3.0</td>\n",
       "      <td>2.0</td>\n",
       "      <td>1225.0</td>\n",
       "      <td>2.0</td>\n",
       "      <td>2</td>\n",
       "      <td>NaN</td>\n",
       "      <td>1.0</td>\n",
       "      <td>1</td>\n",
       "    </tr>\n",
       "    <tr>\n",
       "      <th>13321</th>\n",
       "      <td>2.0</td>\n",
       "      <td>4.5</td>\n",
       "      <td>2400.0</td>\n",
       "      <td>4.5</td>\n",
       "      <td>2</td>\n",
       "      <td>NaN</td>\n",
       "      <td>1.0</td>\n",
       "      <td>0</td>\n",
       "    </tr>\n",
       "    <tr>\n",
       "      <th>13322</th>\n",
       "      <td>2.0</td>\n",
       "      <td>4.0</td>\n",
       "      <td>1650.0</td>\n",
       "      <td>4.5</td>\n",
       "      <td>2</td>\n",
       "      <td>NaN</td>\n",
       "      <td>1.0</td>\n",
       "      <td>1</td>\n",
       "    </tr>\n",
       "    <tr>\n",
       "      <th>13323</th>\n",
       "      <td>3.0</td>\n",
       "      <td>3.0</td>\n",
       "      <td>1322.0</td>\n",
       "      <td>3.0</td>\n",
       "      <td>1</td>\n",
       "      <td>NaN</td>\n",
       "      <td>1.0</td>\n",
       "      <td>1</td>\n",
       "    </tr>\n",
       "    <tr>\n",
       "      <th>13324</th>\n",
       "      <td>3.0</td>\n",
       "      <td>2.0</td>\n",
       "      <td>1161.0</td>\n",
       "      <td>2.0</td>\n",
       "      <td>1</td>\n",
       "      <td>NaN</td>\n",
       "      <td>1.0</td>\n",
       "      <td>1</td>\n",
       "    </tr>\n",
       "    <tr>\n",
       "      <th>...</th>\n",
       "      <td>...</td>\n",
       "      <td>...</td>\n",
       "      <td>...</td>\n",
       "      <td>...</td>\n",
       "      <td>...</td>\n",
       "      <td>...</td>\n",
       "      <td>...</td>\n",
       "      <td>...</td>\n",
       "    </tr>\n",
       "    <tr>\n",
       "      <th>14795</th>\n",
       "      <td>3.0</td>\n",
       "      <td>2.0</td>\n",
       "      <td>1246.0</td>\n",
       "      <td>2.0</td>\n",
       "      <td>1</td>\n",
       "      <td>NaN</td>\n",
       "      <td>1.0</td>\n",
       "      <td>1</td>\n",
       "    </tr>\n",
       "    <tr>\n",
       "      <th>14796</th>\n",
       "      <td>3.0</td>\n",
       "      <td>3.0</td>\n",
       "      <td>1660.0</td>\n",
       "      <td>3.0</td>\n",
       "      <td>2</td>\n",
       "      <td>NaN</td>\n",
       "      <td>1.0</td>\n",
       "      <td>0</td>\n",
       "    </tr>\n",
       "    <tr>\n",
       "      <th>14797</th>\n",
       "      <td>3.0</td>\n",
       "      <td>2.0</td>\n",
       "      <td>1216.0</td>\n",
       "      <td>2.0</td>\n",
       "      <td>2</td>\n",
       "      <td>NaN</td>\n",
       "      <td>1.0</td>\n",
       "      <td>1</td>\n",
       "    </tr>\n",
       "    <tr>\n",
       "      <th>14798</th>\n",
       "      <td>0.0</td>\n",
       "      <td>2.0</td>\n",
       "      <td>996.0</td>\n",
       "      <td>2.0</td>\n",
       "      <td>1</td>\n",
       "      <td>NaN</td>\n",
       "      <td>1.0</td>\n",
       "      <td>1</td>\n",
       "    </tr>\n",
       "    <tr>\n",
       "      <th>14799</th>\n",
       "      <td>0.0</td>\n",
       "      <td>2.0</td>\n",
       "      <td>1150.0</td>\n",
       "      <td>2.0</td>\n",
       "      <td>2</td>\n",
       "      <td>NaN</td>\n",
       "      <td>1.0</td>\n",
       "      <td>1</td>\n",
       "    </tr>\n",
       "  </tbody>\n",
       "</table>\n",
       "<p>1480 rows × 8 columns</p>\n",
       "</div>"
      ],
      "text/plain": [
       "       area_type  size  total_sqft  bath  balcony  price  area_category  \\\n",
       "13320        3.0   2.0      1225.0   2.0        2    NaN            1.0   \n",
       "13321        2.0   4.5      2400.0   4.5        2    NaN            1.0   \n",
       "13322        2.0   4.0      1650.0   4.5        2    NaN            1.0   \n",
       "13323        3.0   3.0      1322.0   3.0        1    NaN            1.0   \n",
       "13324        3.0   2.0      1161.0   2.0        1    NaN            1.0   \n",
       "...          ...   ...         ...   ...      ...    ...            ...   \n",
       "14795        3.0   2.0      1246.0   2.0        1    NaN            1.0   \n",
       "14796        3.0   3.0      1660.0   3.0        2    NaN            1.0   \n",
       "14797        3.0   2.0      1216.0   2.0        2    NaN            1.0   \n",
       "14798        0.0   2.0       996.0   2.0        1    NaN            1.0   \n",
       "14799        0.0   2.0      1150.0   2.0        2    NaN            1.0   \n",
       "\n",
       "       SocietyPresence  \n",
       "13320                1  \n",
       "13321                0  \n",
       "13322                1  \n",
       "13323                1  \n",
       "13324                1  \n",
       "...                ...  \n",
       "14795                1  \n",
       "14796                0  \n",
       "14797                1  \n",
       "14798                1  \n",
       "14799                1  \n",
       "\n",
       "[1480 rows x 8 columns]"
      ]
     },
     "execution_count": 45,
     "metadata": {},
     "output_type": "execute_result"
    }
   ],
   "source": [
    "newtest"
   ]
  },
  {
   "cell_type": "code",
   "execution_count": 46,
   "id": "a841db4f",
   "metadata": {
    "scrolled": true
   },
   "outputs": [
    {
     "name": "stderr",
     "output_type": "stream",
     "text": [
      "C:\\Users\\NANDINI MK\\anaconda3\\lib\\site-packages\\pandas\\core\\frame.py:4906: SettingWithCopyWarning: \n",
      "A value is trying to be set on a copy of a slice from a DataFrame\n",
      "\n",
      "See the caveats in the documentation: https://pandas.pydata.org/pandas-docs/stable/user_guide/indexing.html#returning-a-view-versus-a-copy\n",
      "  return super().drop(\n"
     ]
    }
   ],
   "source": [
    "newtest.drop('price',axis=1,inplace=True)"
   ]
  },
  {
   "cell_type": "code",
   "execution_count": 47,
   "id": "a032e412",
   "metadata": {},
   "outputs": [],
   "source": [
    "from sklearn.model_selection import train_test_split\n",
    "from sklearn.metrics import mean_squared_error,mean_absolute_error,mean_absolute_percentage_error"
   ]
  },
  {
   "cell_type": "code",
   "execution_count": 48,
   "id": "a80a6b05",
   "metadata": {},
   "outputs": [],
   "source": [
    "x=newtrain.drop('price',axis=1)\n",
    "y=newtrain['price']"
   ]
  },
  {
   "cell_type": "code",
   "execution_count": 52,
   "id": "82d5c8bc",
   "metadata": {},
   "outputs": [],
   "source": [
    "from sklearn.ensemble import GradientBoostingRegressor\n",
    "\n",
    "gbm=GradientBoostingRegressor()\n",
    "pred_gbm=gbm.fit(x,y).predict(newtest)"
   ]
  },
  {
   "cell_type": "code",
   "execution_count": 53,
   "id": "804b933c",
   "metadata": {
    "scrolled": true
   },
   "outputs": [],
   "source": [
    "submission=pd.DataFrame({'Per Person Price':pred_gbm})\n",
    "submission.to_csv('submission.csv',index=False)"
   ]
  }
 ],
 "metadata": {
  "kernelspec": {
   "display_name": "Python 3",
   "language": "python",
   "name": "python3"
  },
  "language_info": {
   "codemirror_mode": {
    "name": "ipython",
    "version": 3
   },
   "file_extension": ".py",
   "mimetype": "text/x-python",
   "name": "python",
   "nbconvert_exporter": "python",
   "pygments_lexer": "ipython3",
   "version": "3.8.8"
  }
 },
 "nbformat": 4,
 "nbformat_minor": 5
}
